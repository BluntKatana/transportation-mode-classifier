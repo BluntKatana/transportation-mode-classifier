{
 "cells": [
  {
   "cell_type": "code",
   "execution_count": 8,
   "metadata": {},
   "outputs": [],
   "source": [
    "import pandas as pd\n",
    "import numpy as np\n",
    "from pykalman import KalmanFilter\n",
    "\n"
   ]
  },
  {
   "cell_type": "code",
   "execution_count": 9,
   "metadata": {},
   "outputs": [
    {
     "name": "stderr",
     "output_type": "stream",
     "text": [
      "/var/folders/vm/v4f6vcp54rnd_9s9nybhpxj80000gn/T/ipykernel_94215/3328038774.py:2: DtypeWarning: Columns (1,2,3,4,5,6,7,8,9,10,11,12,13,14,15,16,17,18,19,20,21,22,23,28,29,30,31,32,33,34,35,36,37) have mixed types. Specify dtype option on import or set low_memory=False.\n",
      "  df = pd.read_csv(\"../data/all.csv\")\n"
     ]
    }
   ],
   "source": [
    "#  Convert the data to a pandas DataFrame\n",
    "df = pd.read_csv(\"../data/all.csv\")"
   ]
  },
  {
   "cell_type": "code",
   "execution_count": 10,
   "metadata": {},
   "outputs": [],
   "source": [
    "##############################################################\n",
    "#                                                            #\n",
    "#    Mark Hoogendoorn and Burkhardt Funk (2017)              #\n",
    "#    Machine Learning for the Quantified Self                #\n",
    "#    Springer                                                #\n",
    "#    Chapter 3                                               #\n",
    "#                                                            #\n",
    "##############################################################\n",
    "\n",
    "\n",
    "# Implements the Kalman filter for single columns.\n",
    "class KalmanFilters:\n",
    "\n",
    "    # Very simple Kalman filter: fill missing values and remove outliers for single attribute.\n",
    "    # We assume a very simple transition matrix, namely simply a [[1]]. It\n",
    "    # is however still useful as it is able to dampen outliers and impute missing values. The new\n",
    "    # values are appended in a new column.\n",
    "    def apply_kalman_filter(self, data_table, col):\n",
    "\n",
    "        # Initialize the Kalman filter with the trivial transition and observation matrices.\n",
    "        kf = KalmanFilter(transition_matrices=[[1]], observation_matrices=[[1]])\n",
    "\n",
    "        numpy_array_state = data_table[col].values\n",
    "        numpy_array_state = numpy_array_state.astype(np.float32)\n",
    "        numpy_matrix_state_with_mask = np.ma.masked_invalid(numpy_array_state)\n",
    "\n",
    "        # Find the best other parameters based on the data (e.g. Q)\n",
    "        kf = kf.em(numpy_matrix_state_with_mask, n_iter=5)\n",
    "\n",
    "        # And apply the filter.\n",
    "        (new_data, filtered_state_covariances) = kf.filter(numpy_matrix_state_with_mask)\n",
    "\n",
    "        data_table[col + '_kalman'] = new_data\n",
    "        return data_table"
   ]
  },
  {
   "cell_type": "code",
   "execution_count": 17,
   "metadata": {},
   "outputs": [],
   "source": [
    "km_filters = KalmanFilters()\n",
    "columns = [\"Acceleration y (m/s^2)\", \"Acceleration z (m/s^2)\", \"Gyroscope x (rad/s)\", \"Gyroscope y (rad/s)\", \"Gyroscope z (rad/s)\"]\n",
    "for column in columns:\n",
    "    df = km_filters.apply_kalman_filter(df, column)"
   ]
  },
  {
   "cell_type": "code",
   "execution_count": 18,
   "metadata": {},
   "outputs": [],
   "source": [
    "# save the data to all.csv\n",
    "df.to_csv(\"../data/all.csv\", index=False)\n"
   ]
  },
  {
   "cell_type": "code",
   "execution_count": null,
   "metadata": {},
   "outputs": [],
   "source": []
  }
 ],
 "metadata": {
  "kernelspec": {
   "display_name": "Python 3",
   "language": "python",
   "name": "python3"
  },
  "language_info": {
   "codemirror_mode": {
    "name": "ipython",
    "version": 3
   },
   "file_extension": ".py",
   "mimetype": "text/x-python",
   "name": "python",
   "nbconvert_exporter": "python",
   "pygments_lexer": "ipython3",
   "version": "3.11.5"
  }
 },
 "nbformat": 4,
 "nbformat_minor": 2
}
