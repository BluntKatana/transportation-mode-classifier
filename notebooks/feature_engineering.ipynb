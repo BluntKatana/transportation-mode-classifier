{
 "cells": [
  {
   "cell_type": "markdown",
   "metadata": {},
   "source": [
    "# Exploratory Data Analysis (EDA) of the sensory data"
   ]
  },
  {
   "cell_type": "code",
   "execution_count": 1,
   "metadata": {},
   "outputs": [
    {
     "name": "stdout",
     "output_type": "stream",
     "text": [
      "Intel MKL WARNING: Support of Intel(R) Streaming SIMD Extensions 4.2 (Intel(R) SSE4.2) enabled only processors has been deprecated. Intel oneAPI Math Kernel Library 2025.0 will require Intel(R) Advanced Vector Extensions (Intel(R) AVX) instructions.\n",
      "Intel MKL WARNING: Support of Intel(R) Streaming SIMD Extensions 4.2 (Intel(R) SSE4.2) enabled only processors has been deprecated. Intel oneAPI Math Kernel Library 2025.0 will require Intel(R) Advanced Vector Extensions (Intel(R) AVX) instructions.\n"
     ]
    }
   ],
   "source": [
    "import pandas as pd\n",
    "import numpy as np\n",
    "\n",
    "# Load the data\n",
    "data = pd.read_csv('../data/all_data.csv')"
   ]
  },
  {
   "cell_type": "code",
   "execution_count": 6,
   "metadata": {},
   "outputs": [
    {
     "name": "stdout",
     "output_type": "stream",
     "text": [
      "Index(['Time (s)', 'Latitude (°)', 'Longitude (°)', 'Height (m)',\n",
      "       'Velocity (m/s)', 'Direction (°)', 'Horizontal Accuracy (m)',\n",
      "       'Vertical Accuracy (°)', 'X (µT)', 'Y (µT)', 'Z (µT)', 'Distance (cm)',\n",
      "       'timestamp', 'transportation_mode', 'start_date', 'expirement_id',\n",
      "       'Acceleration x (m/s^2)', 'Acceleration y (m/s^2)',\n",
      "       'Acceleration z (m/s^2)', 'Gyroscope x (rad/s)', 'Gyroscope y (rad/s)',\n",
      "       'Gyroscope z (rad/s)', 'Illuminance (lx)',\n",
      "       'Linear Acceleration x (m/s^2)', 'Linear Acceleration y (m/s^2)',\n",
      "       'Linear Acceleration z (m/s^2)', 'Vertical Accuracy (m)',\n",
      "       'Magnetic field x (µT)', 'Magnetic field y (µT)',\n",
      "       'Magnetic field z (µT)', 'Pressure (hPa)', 'Temperature (°C)'],\n",
      "      dtype='object')\n",
      "<class 'pandas.core.frame.DataFrame'>\n",
      "RangeIndex: 385400 entries, 0 to 385399\n",
      "Data columns (total 32 columns):\n",
      " #   Column                         Non-Null Count   Dtype  \n",
      "---  ------                         --------------   -----  \n",
      " 0   Time (s)                       385400 non-null  float64\n",
      " 1   Latitude (°)                   7248 non-null    float64\n",
      " 2   Longitude (°)                  7248 non-null    float64\n",
      " 3   Height (m)                     7187 non-null    float64\n",
      " 4   Velocity (m/s)                 7132 non-null    float64\n",
      " 5   Direction (°)                  6980 non-null    float64\n",
      " 6   Horizontal Accuracy (m)        7248 non-null    float64\n",
      " 7   Vertical Accuracy (°)          5359 non-null    float64\n",
      " 8   X (µT)                         56172 non-null   float64\n",
      " 9   Y (µT)                         56172 non-null   float64\n",
      " 10  Z (µT)                         56172 non-null   float64\n",
      " 11  Distance (cm)                  5561 non-null    float64\n",
      " 12  timestamp                      385400 non-null  object \n",
      " 13  transportation_mode            385400 non-null  object \n",
      " 14  start_date                     385400 non-null  object \n",
      " 15  expirement_id                  385400 non-null  int64  \n",
      " 16  Acceleration x (m/s^2)         87305 non-null   float64\n",
      " 17  Acceleration y (m/s^2)         87305 non-null   float64\n",
      " 18  Acceleration z (m/s^2)         87305 non-null   float64\n",
      " 19  Gyroscope x (rad/s)            87301 non-null   float64\n",
      " 20  Gyroscope y (rad/s)            87301 non-null   float64\n",
      " 21  Gyroscope z (rad/s)            87301 non-null   float64\n",
      " 22  Illuminance (lx)               17307 non-null   float64\n",
      " 23  Linear Acceleration x (m/s^2)  31143 non-null   float64\n",
      " 24  Linear Acceleration y (m/s^2)  31143 non-null   float64\n",
      " 25  Linear Acceleration z (m/s^2)  31143 non-null   float64\n",
      " 26  Vertical Accuracy (m)          1889 non-null    float64\n",
      " 27  Magnetic field x (µT)          31122 non-null   float64\n",
      " 28  Magnetic field y (µT)          31122 non-null   float64\n",
      " 29  Magnetic field z (µT)          31122 non-null   float64\n",
      " 30  Pressure (hPa)                 31115 non-null   float64\n",
      " 31  Temperature (°C)               31126 non-null   float64\n",
      "dtypes: float64(28), int64(1), object(3)\n",
      "memory usage: 94.1+ MB\n",
      "None\n",
      "Index(['Time (s)', 'Latitude (°)', 'Longitude (°)', 'Height (m)',\n",
      "       'Velocity (m/s)', 'Direction (°)', 'Horizontal Accuracy (m)',\n",
      "       'Vertical Accuracy (°)', 'X (µT)', 'Y (µT)', 'Z (µT)', 'Distance (cm)',\n",
      "       'timestamp', 'transportation_mode', 'start_date', 'expirement_id',\n",
      "       'Acceleration x (m/s^2)', 'Acceleration y (m/s^2)',\n",
      "       'Acceleration z (m/s^2)', 'Gyroscope x (rad/s)', 'Gyroscope y (rad/s)',\n",
      "       'Gyroscope z (rad/s)', 'Illuminance (lx)',\n",
      "       'Linear Acceleration x (m/s^2)', 'Linear Acceleration y (m/s^2)',\n",
      "       'Linear Acceleration z (m/s^2)', 'Vertical Accuracy (m)',\n",
      "       'Magnetic field x (µT)', 'Magnetic field y (µT)',\n",
      "       'Magnetic field z (µT)', 'Pressure (hPa)', 'Temperature (°C)'],\n",
      "      dtype='object')\n"
     ]
    }
   ],
   "source": [
    "# Show some basic information\n",
    "print(data.columns)\n",
    "print(data.info())\n",
    "data.describe()\n",
    "print(data.columns)\n"
   ]
  },
  {
   "cell_type": "code",
   "execution_count": 7,
   "metadata": {},
   "outputs": [
    {
     "name": "stdout",
     "output_type": "stream",
     "text": [
      "Time (s)                              0\n",
      "Latitude (°)                     378152\n",
      "Longitude (°)                    378152\n",
      "Height (m)                       378213\n",
      "Velocity (m/s)                   378268\n",
      "Direction (°)                    378420\n",
      "Horizontal Accuracy (m)          378152\n",
      "Vertical Accuracy (°)            380041\n",
      "X (µT)                           329228\n",
      "Y (µT)                           329228\n",
      "Z (µT)                           329228\n",
      "Distance (cm)                    379839\n",
      "timestamp                             0\n",
      "transportation_mode                   0\n",
      "start_date                            0\n",
      "expirement_id                         0\n",
      "Acceleration x (m/s^2)           298095\n",
      "Acceleration y (m/s^2)           298095\n",
      "Acceleration z (m/s^2)           298095\n",
      "Gyroscope x (rad/s)              298099\n",
      "Gyroscope y (rad/s)              298099\n",
      "Gyroscope z (rad/s)              298099\n",
      "Illuminance (lx)                 368093\n",
      "Linear Acceleration x (m/s^2)    354257\n",
      "Linear Acceleration y (m/s^2)    354257\n",
      "Linear Acceleration z (m/s^2)    354257\n",
      "Vertical Accuracy (m)            383511\n",
      "Magnetic field x (µT)            354278\n",
      "Magnetic field y (µT)            354278\n",
      "Magnetic field z (µT)            354278\n",
      "Pressure (hPa)                   354285\n",
      "Temperature (°C)                 354274\n",
      "dtype: int64\n"
     ]
    }
   ],
   "source": [
    "# Find amount of null values\n",
    "print(data.isnull().sum())"
   ]
  },
  {
   "cell_type": "markdown",
   "metadata": {},
   "source": [
    "# Create some graphs of gyroscope data per transportation_mode, as well as the acceleration data\n",
    "import matplotlib.pyplot as plt\n",
    "import seaborn as sns\n",
    "\n",
    "# Gyroscope data\n",
    "plt.figure(figsize=(10, 6))\n",
    "sns.boxplot(x='transportation_mode', y='Gyroscope x (rad/s)', data=data)\n",
    "plt.savefig('gyro_x.png')\n",
    "plt.show()\n",
    "\n",
    "plt.figure(figsize=(10, 6))\n",
    "sns.boxplot(x='transportation_mode', y='Gyroscope y (rad/s)', data=data)\n",
    "plt.savefig('gyro_y.png')\n",
    "plt.show()\n",
    "\n",
    "plt.figure(figsize=(10, 6))\n",
    "sns.boxplot(x='transportation_mode', y='Gyroscope z (rad/s)', data=data)\n",
    "plt.savefig('gyro_z.png')\n",
    "plt.show()\n",
    "\n",
    "# Acceleration data\n",
    "plt.figure(figsize=(10, 6))\n",
    "sns.boxplot(x='transportation_mode', y='Acceleration x (m/s^2)', data=data)\n",
    "plt.savefig('accel_x.png')\n",
    "plt.show()\n",
    "\n",
    "plt.figure(figsize=(10, 6))\n",
    "sns.boxplot(x='transportation_mode', y='Acceleration y (m/s^2)', data=data)\n",
    "plt.savefig('accel_y.png')\n",
    "plt.show()\n",
    "\n",
    "plt.figure(figsize=(10, 6))\n",
    "sns.boxplot(x='transportation_mode', y='Acceleration z (m/s^2)', data=data)\n",
    "plt.savefig('accel_z.png')\n",
    "plt.show()\n",
    "\n",
    "plt.figure(figsize=(10,6))\n",
    "sns.lineplot(x=, y='Height (m)', data=data)\n",
    "plt.savefig('height.png')\n",
    "plt.show()\n",
    "\n",
    "\n"
   ]
  },
  {
   "cell_type": "code",
   "execution_count": null,
   "metadata": {},
   "outputs": [],
   "source": []
  }
 ],
 "metadata": {
  "kernelspec": {
   "display_name": "Python 3",
   "language": "python",
   "name": "python3"
  },
  "language_info": {
   "codemirror_mode": {
    "name": "ipython",
    "version": 3
   },
   "file_extension": ".py",
   "mimetype": "text/x-python",
   "name": "python",
   "nbconvert_exporter": "python",
   "pygments_lexer": "ipython3",
   "version": "3.11.9"
  }
 },
 "nbformat": 4,
 "nbformat_minor": 2
}
